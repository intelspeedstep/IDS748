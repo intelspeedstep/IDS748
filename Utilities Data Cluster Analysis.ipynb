{
 "cells": [
  {
   "cell_type": "markdown",
   "metadata": {},
   "source": [
    "## Name: David Geng"
   ]
  },
  {
   "cell_type": "markdown",
   "metadata": {},
   "source": [
    "## Unsupervised Learning: Cluster Analysis using K-Means"
   ]
  },
  {
   "cell_type": "markdown",
   "metadata": {},
   "source": [
    "### Loading Libraries"
   ]
  },
  {
   "cell_type": "code",
   "execution_count": 1,
   "metadata": {},
   "outputs": [],
   "source": [
    "# importing the packages\n",
    "import pandas as pd\n",
    "from sklearn.preprocessing import StandardScaler\n",
    "from sklearn.cluster import KMeans\n",
    "import matplotlib.pylab as plt\n",
    "import seaborn as sns"
   ]
  },
  {
   "cell_type": "markdown",
   "metadata": {},
   "source": [
    "### Loading Data"
   ]
  },
  {
   "cell_type": "code",
   "execution_count": 2,
   "metadata": {},
   "outputs": [],
   "source": [
    "# # importing data\n",
    "# from google.colab import files\n",
    "# upload = files.upload()"
   ]
  },
  {
   "cell_type": "code",
   "execution_count": 26,
   "metadata": {},
   "outputs": [],
   "source": [
    "# read the dataset\n",
    "df = pd.read_csv('utilities.csv')"
   ]
  },
  {
   "cell_type": "code",
   "execution_count": 27,
   "metadata": {},
   "outputs": [],
   "source": [
    "# copy of df\n",
    "df1 = df.copy()"
   ]
  },
  {
   "cell_type": "code",
   "execution_count": 4,
   "metadata": {},
   "outputs": [
    {
     "data": {
      "text/html": [
       "<div>\n",
       "<style scoped>\n",
       "    .dataframe tbody tr th:only-of-type {\n",
       "        vertical-align: middle;\n",
       "    }\n",
       "\n",
       "    .dataframe tbody tr th {\n",
       "        vertical-align: top;\n",
       "    }\n",
       "\n",
       "    .dataframe thead th {\n",
       "        text-align: right;\n",
       "    }\n",
       "</style>\n",
       "<table border=\"1\" class=\"dataframe\">\n",
       "  <thead>\n",
       "    <tr style=\"text-align: right;\">\n",
       "      <th></th>\n",
       "      <th>Company</th>\n",
       "      <th>Fixed_charge</th>\n",
       "      <th>RoR</th>\n",
       "      <th>Cost</th>\n",
       "      <th>Load_factor</th>\n",
       "      <th>Demand_growth</th>\n",
       "      <th>Sales</th>\n",
       "      <th>Nuclear</th>\n",
       "      <th>Fuel_Cost</th>\n",
       "    </tr>\n",
       "  </thead>\n",
       "  <tbody>\n",
       "    <tr>\n",
       "      <th>0</th>\n",
       "      <td>Arizona</td>\n",
       "      <td>1.06</td>\n",
       "      <td>9.2</td>\n",
       "      <td>151</td>\n",
       "      <td>54.4</td>\n",
       "      <td>1.6</td>\n",
       "      <td>9077</td>\n",
       "      <td>0.0</td>\n",
       "      <td>0.628</td>\n",
       "    </tr>\n",
       "    <tr>\n",
       "      <th>1</th>\n",
       "      <td>Boston</td>\n",
       "      <td>0.89</td>\n",
       "      <td>10.3</td>\n",
       "      <td>202</td>\n",
       "      <td>57.9</td>\n",
       "      <td>2.2</td>\n",
       "      <td>5088</td>\n",
       "      <td>25.3</td>\n",
       "      <td>1.555</td>\n",
       "    </tr>\n",
       "    <tr>\n",
       "      <th>2</th>\n",
       "      <td>Central</td>\n",
       "      <td>1.43</td>\n",
       "      <td>15.4</td>\n",
       "      <td>113</td>\n",
       "      <td>53.0</td>\n",
       "      <td>3.4</td>\n",
       "      <td>9212</td>\n",
       "      <td>0.0</td>\n",
       "      <td>1.058</td>\n",
       "    </tr>\n",
       "    <tr>\n",
       "      <th>3</th>\n",
       "      <td>Commonwealth</td>\n",
       "      <td>1.02</td>\n",
       "      <td>11.2</td>\n",
       "      <td>168</td>\n",
       "      <td>56.0</td>\n",
       "      <td>0.3</td>\n",
       "      <td>6423</td>\n",
       "      <td>34.3</td>\n",
       "      <td>0.700</td>\n",
       "    </tr>\n",
       "    <tr>\n",
       "      <th>4</th>\n",
       "      <td>NY</td>\n",
       "      <td>1.49</td>\n",
       "      <td>8.8</td>\n",
       "      <td>192</td>\n",
       "      <td>51.2</td>\n",
       "      <td>1.0</td>\n",
       "      <td>3300</td>\n",
       "      <td>15.6</td>\n",
       "      <td>2.044</td>\n",
       "    </tr>\n",
       "  </tbody>\n",
       "</table>\n",
       "</div>"
      ],
      "text/plain": [
       "        Company  Fixed_charge   RoR  Cost  Load_factor  Demand_growth  Sales  \\\n",
       "0      Arizona           1.06   9.2   151         54.4            1.6   9077   \n",
       "1       Boston           0.89  10.3   202         57.9            2.2   5088   \n",
       "2      Central           1.43  15.4   113         53.0            3.4   9212   \n",
       "3  Commonwealth          1.02  11.2   168         56.0            0.3   6423   \n",
       "4            NY          1.49   8.8   192         51.2            1.0   3300   \n",
       "\n",
       "   Nuclear  Fuel_Cost  \n",
       "0      0.0      0.628  \n",
       "1     25.3      1.555  \n",
       "2      0.0      1.058  \n",
       "3     34.3      0.700  \n",
       "4     15.6      2.044  "
      ]
     },
     "execution_count": 4,
     "metadata": {},
     "output_type": "execute_result"
    }
   ],
   "source": [
    "# viewing top rows\n",
    "df.head()"
   ]
  },
  {
   "cell_type": "code",
   "execution_count": 5,
   "metadata": {},
   "outputs": [
    {
     "name": "stdout",
     "output_type": "stream",
     "text": [
      "<class 'pandas.core.frame.DataFrame'>\n",
      "RangeIndex: 22 entries, 0 to 21\n",
      "Data columns (total 9 columns):\n",
      " #   Column         Non-Null Count  Dtype  \n",
      "---  ------         --------------  -----  \n",
      " 0   Company        22 non-null     object \n",
      " 1   Fixed_charge   22 non-null     float64\n",
      " 2   RoR            22 non-null     float64\n",
      " 3   Cost           22 non-null     int64  \n",
      " 4   Load_factor    22 non-null     float64\n",
      " 5   Demand_growth  22 non-null     float64\n",
      " 6   Sales          22 non-null     int64  \n",
      " 7   Nuclear        22 non-null     float64\n",
      " 8   Fuel_Cost      22 non-null     float64\n",
      "dtypes: float64(6), int64(2), object(1)\n",
      "memory usage: 1.7+ KB\n"
     ]
    }
   ],
   "source": [
    "# dataset info\n",
    "df.info()"
   ]
  },
  {
   "cell_type": "code",
   "execution_count": 6,
   "metadata": {},
   "outputs": [
    {
     "data": {
      "text/html": [
       "<div>\n",
       "<style scoped>\n",
       "    .dataframe tbody tr th:only-of-type {\n",
       "        vertical-align: middle;\n",
       "    }\n",
       "\n",
       "    .dataframe tbody tr th {\n",
       "        vertical-align: top;\n",
       "    }\n",
       "\n",
       "    .dataframe thead th {\n",
       "        text-align: right;\n",
       "    }\n",
       "</style>\n",
       "<table border=\"1\" class=\"dataframe\">\n",
       "  <thead>\n",
       "    <tr style=\"text-align: right;\">\n",
       "      <th></th>\n",
       "      <th>Fixed_charge</th>\n",
       "      <th>RoR</th>\n",
       "      <th>Cost</th>\n",
       "      <th>Load_factor</th>\n",
       "      <th>Demand_growth</th>\n",
       "      <th>Sales</th>\n",
       "      <th>Nuclear</th>\n",
       "      <th>Fuel_Cost</th>\n",
       "    </tr>\n",
       "  </thead>\n",
       "  <tbody>\n",
       "    <tr>\n",
       "      <th>count</th>\n",
       "      <td>22.000000</td>\n",
       "      <td>22.000000</td>\n",
       "      <td>22.000000</td>\n",
       "      <td>22.000000</td>\n",
       "      <td>22.000000</td>\n",
       "      <td>22.000000</td>\n",
       "      <td>22.00000</td>\n",
       "      <td>22.000000</td>\n",
       "    </tr>\n",
       "    <tr>\n",
       "      <th>mean</th>\n",
       "      <td>1.114091</td>\n",
       "      <td>10.736364</td>\n",
       "      <td>168.181818</td>\n",
       "      <td>56.977273</td>\n",
       "      <td>3.240909</td>\n",
       "      <td>8914.045455</td>\n",
       "      <td>12.00000</td>\n",
       "      <td>1.102727</td>\n",
       "    </tr>\n",
       "    <tr>\n",
       "      <th>std</th>\n",
       "      <td>0.184511</td>\n",
       "      <td>2.244049</td>\n",
       "      <td>41.191349</td>\n",
       "      <td>4.461148</td>\n",
       "      <td>3.118250</td>\n",
       "      <td>3549.984031</td>\n",
       "      <td>16.79192</td>\n",
       "      <td>0.556098</td>\n",
       "    </tr>\n",
       "    <tr>\n",
       "      <th>min</th>\n",
       "      <td>0.750000</td>\n",
       "      <td>6.400000</td>\n",
       "      <td>96.000000</td>\n",
       "      <td>49.800000</td>\n",
       "      <td>-2.200000</td>\n",
       "      <td>3300.000000</td>\n",
       "      <td>0.00000</td>\n",
       "      <td>0.309000</td>\n",
       "    </tr>\n",
       "    <tr>\n",
       "      <th>25%</th>\n",
       "      <td>1.042500</td>\n",
       "      <td>9.200000</td>\n",
       "      <td>148.500000</td>\n",
       "      <td>53.775000</td>\n",
       "      <td>1.450000</td>\n",
       "      <td>6458.250000</td>\n",
       "      <td>0.00000</td>\n",
       "      <td>0.630000</td>\n",
       "    </tr>\n",
       "    <tr>\n",
       "      <th>50%</th>\n",
       "      <td>1.110000</td>\n",
       "      <td>11.050000</td>\n",
       "      <td>170.500000</td>\n",
       "      <td>56.350000</td>\n",
       "      <td>3.000000</td>\n",
       "      <td>8024.000000</td>\n",
       "      <td>0.00000</td>\n",
       "      <td>0.960000</td>\n",
       "    </tr>\n",
       "    <tr>\n",
       "      <th>75%</th>\n",
       "      <td>1.190000</td>\n",
       "      <td>12.350000</td>\n",
       "      <td>195.750000</td>\n",
       "      <td>60.300000</td>\n",
       "      <td>5.350000</td>\n",
       "      <td>10128.250000</td>\n",
       "      <td>24.60000</td>\n",
       "      <td>1.516250</td>\n",
       "    </tr>\n",
       "    <tr>\n",
       "      <th>max</th>\n",
       "      <td>1.490000</td>\n",
       "      <td>15.400000</td>\n",
       "      <td>252.000000</td>\n",
       "      <td>67.600000</td>\n",
       "      <td>9.200000</td>\n",
       "      <td>17441.000000</td>\n",
       "      <td>50.20000</td>\n",
       "      <td>2.116000</td>\n",
       "    </tr>\n",
       "  </tbody>\n",
       "</table>\n",
       "</div>"
      ],
      "text/plain": [
       "       Fixed_charge        RoR        Cost  Load_factor  Demand_growth  \\\n",
       "count     22.000000  22.000000   22.000000    22.000000      22.000000   \n",
       "mean       1.114091  10.736364  168.181818    56.977273       3.240909   \n",
       "std        0.184511   2.244049   41.191349     4.461148       3.118250   \n",
       "min        0.750000   6.400000   96.000000    49.800000      -2.200000   \n",
       "25%        1.042500   9.200000  148.500000    53.775000       1.450000   \n",
       "50%        1.110000  11.050000  170.500000    56.350000       3.000000   \n",
       "75%        1.190000  12.350000  195.750000    60.300000       5.350000   \n",
       "max        1.490000  15.400000  252.000000    67.600000       9.200000   \n",
       "\n",
       "              Sales   Nuclear  Fuel_Cost  \n",
       "count     22.000000  22.00000  22.000000  \n",
       "mean    8914.045455  12.00000   1.102727  \n",
       "std     3549.984031  16.79192   0.556098  \n",
       "min     3300.000000   0.00000   0.309000  \n",
       "25%     6458.250000   0.00000   0.630000  \n",
       "50%     8024.000000   0.00000   0.960000  \n",
       "75%    10128.250000  24.60000   1.516250  \n",
       "max    17441.000000  50.20000   2.116000  "
      ]
     },
     "execution_count": 6,
     "metadata": {},
     "output_type": "execute_result"
    }
   ],
   "source": [
    "# using describe function\n",
    "df.describe()"
   ]
  },
  {
   "cell_type": "code",
   "execution_count": 7,
   "metadata": {},
   "outputs": [],
   "source": [
    "# dropping Company\n",
    "df = df.iloc[:, 1:]"
   ]
  },
  {
   "cell_type": "code",
   "execution_count": 8,
   "metadata": {},
   "outputs": [
    {
     "name": "stdout",
     "output_type": "stream",
     "text": [
      "<class 'pandas.core.frame.DataFrame'>\n",
      "RangeIndex: 22 entries, 0 to 21\n",
      "Data columns (total 8 columns):\n",
      " #   Column         Non-Null Count  Dtype  \n",
      "---  ------         --------------  -----  \n",
      " 0   Fixed_charge   22 non-null     float64\n",
      " 1   RoR            22 non-null     float64\n",
      " 2   Cost           22 non-null     int64  \n",
      " 3   Load_factor    22 non-null     float64\n",
      " 4   Demand_growth  22 non-null     float64\n",
      " 5   Sales          22 non-null     int64  \n",
      " 6   Nuclear        22 non-null     float64\n",
      " 7   Fuel_Cost      22 non-null     float64\n",
      "dtypes: float64(6), int64(2)\n",
      "memory usage: 1.5 KB\n"
     ]
    }
   ],
   "source": [
    "# df info\n",
    "df.info()"
   ]
  },
  {
   "cell_type": "markdown",
   "metadata": {},
   "source": [
    "## K-Means Clustering Analysis"
   ]
  },
  {
   "cell_type": "code",
   "execution_count": 9,
   "metadata": {},
   "outputs": [
    {
     "data": {
      "text/html": [
       "<div>\n",
       "<style scoped>\n",
       "    .dataframe tbody tr th:only-of-type {\n",
       "        vertical-align: middle;\n",
       "    }\n",
       "\n",
       "    .dataframe tbody tr th {\n",
       "        vertical-align: top;\n",
       "    }\n",
       "\n",
       "    .dataframe thead th {\n",
       "        text-align: right;\n",
       "    }\n",
       "</style>\n",
       "<table border=\"1\" class=\"dataframe\">\n",
       "  <thead>\n",
       "    <tr style=\"text-align: right;\">\n",
       "      <th></th>\n",
       "      <th>0</th>\n",
       "      <th>1</th>\n",
       "      <th>2</th>\n",
       "      <th>3</th>\n",
       "      <th>4</th>\n",
       "      <th>5</th>\n",
       "      <th>6</th>\n",
       "      <th>7</th>\n",
       "    </tr>\n",
       "  </thead>\n",
       "  <tbody>\n",
       "    <tr>\n",
       "      <th>0</th>\n",
       "      <td>-0.300057</td>\n",
       "      <td>-0.700750</td>\n",
       "      <td>-0.426938</td>\n",
       "      <td>-0.591310</td>\n",
       "      <td>-0.538611</td>\n",
       "      <td>0.046983</td>\n",
       "      <td>-0.731447</td>\n",
       "      <td>-0.873765</td>\n",
       "    </tr>\n",
       "    <tr>\n",
       "      <th>1</th>\n",
       "      <td>-1.243092</td>\n",
       "      <td>-0.199030</td>\n",
       "      <td>0.840322</td>\n",
       "      <td>0.211704</td>\n",
       "      <td>-0.341667</td>\n",
       "      <td>-1.103127</td>\n",
       "      <td>0.810687</td>\n",
       "      <td>0.832436</td>\n",
       "    </tr>\n",
       "    <tr>\n",
       "      <th>2</th>\n",
       "      <td>1.752432</td>\n",
       "      <td>2.127130</td>\n",
       "      <td>-1.371171</td>\n",
       "      <td>-0.912516</td>\n",
       "      <td>0.052220</td>\n",
       "      <td>0.085906</td>\n",
       "      <td>-0.731447</td>\n",
       "      <td>-0.082323</td>\n",
       "    </tr>\n",
       "    <tr>\n",
       "      <th>3</th>\n",
       "      <td>-0.521947</td>\n",
       "      <td>0.211469</td>\n",
       "      <td>-0.004518</td>\n",
       "      <td>-0.224218</td>\n",
       "      <td>-0.965322</td>\n",
       "      <td>-0.718219</td>\n",
       "      <td>1.359271</td>\n",
       "      <td>-0.741244</td>\n",
       "    </tr>\n",
       "    <tr>\n",
       "      <th>4</th>\n",
       "      <td>2.085268</td>\n",
       "      <td>-0.883194</td>\n",
       "      <td>0.591840</td>\n",
       "      <td>-1.325495</td>\n",
       "      <td>-0.735555</td>\n",
       "      <td>-1.618644</td>\n",
       "      <td>0.219434</td>\n",
       "      <td>1.732470</td>\n",
       "    </tr>\n",
       "  </tbody>\n",
       "</table>\n",
       "</div>"
      ],
      "text/plain": [
       "          0         1         2         3         4         5         6  \\\n",
       "0 -0.300057 -0.700750 -0.426938 -0.591310 -0.538611  0.046983 -0.731447   \n",
       "1 -1.243092 -0.199030  0.840322  0.211704 -0.341667 -1.103127  0.810687   \n",
       "2  1.752432  2.127130 -1.371171 -0.912516  0.052220  0.085906 -0.731447   \n",
       "3 -0.521947  0.211469 -0.004518 -0.224218 -0.965322 -0.718219  1.359271   \n",
       "4  2.085268 -0.883194  0.591840 -1.325495 -0.735555 -1.618644  0.219434   \n",
       "\n",
       "          7  \n",
       "0 -0.873765  \n",
       "1  0.832436  \n",
       "2 -0.082323  \n",
       "3 -0.741244  \n",
       "4  1.732470  "
      ]
     },
     "execution_count": 9,
     "metadata": {},
     "output_type": "execute_result"
    }
   ],
   "source": [
    "# standardization the variable\n",
    "scaler = StandardScaler()\n",
    "df_scaled = pd.DataFrame(scaler.fit_transform(df))\n",
    "df_scaled.head()"
   ]
  },
  {
   "cell_type": "code",
   "execution_count": 10,
   "metadata": {},
   "outputs": [
    {
     "data": {
      "text/plain": [
       "KMeans(n_clusters=5, random_state=0)"
      ]
     },
     "execution_count": 10,
     "metadata": {},
     "output_type": "execute_result"
    }
   ],
   "source": [
    "# computing k-means clustering\n",
    "kmeans = KMeans(n_clusters = 5, random_state = 0)\n",
    "k_pred = kmeans.fit(df_scaled)\n",
    "k_pred"
   ]
  },
  {
   "cell_type": "code",
   "execution_count": 29,
   "metadata": {},
   "outputs": [
    {
     "data": {
      "text/html": [
       "<div>\n",
       "<style scoped>\n",
       "    .dataframe tbody tr th:only-of-type {\n",
       "        vertical-align: middle;\n",
       "    }\n",
       "\n",
       "    .dataframe tbody tr th {\n",
       "        vertical-align: top;\n",
       "    }\n",
       "\n",
       "    .dataframe thead th {\n",
       "        text-align: right;\n",
       "    }\n",
       "</style>\n",
       "<table border=\"1\" class=\"dataframe\">\n",
       "  <thead>\n",
       "    <tr style=\"text-align: right;\">\n",
       "      <th></th>\n",
       "      <th>Company</th>\n",
       "      <th>Fixed_charge</th>\n",
       "      <th>RoR</th>\n",
       "      <th>Cost</th>\n",
       "      <th>Load_factor</th>\n",
       "      <th>Demand_growth</th>\n",
       "      <th>Sales</th>\n",
       "      <th>Nuclear</th>\n",
       "      <th>Fuel_Cost</th>\n",
       "      <th>cluster</th>\n",
       "    </tr>\n",
       "  </thead>\n",
       "  <tbody>\n",
       "    <tr>\n",
       "      <th>0</th>\n",
       "      <td>Arizona</td>\n",
       "      <td>1.06</td>\n",
       "      <td>9.2</td>\n",
       "      <td>151</td>\n",
       "      <td>54.4</td>\n",
       "      <td>1.6</td>\n",
       "      <td>9077</td>\n",
       "      <td>0.0</td>\n",
       "      <td>0.628</td>\n",
       "      <td>2</td>\n",
       "    </tr>\n",
       "    <tr>\n",
       "      <th>1</th>\n",
       "      <td>Boston</td>\n",
       "      <td>0.89</td>\n",
       "      <td>10.3</td>\n",
       "      <td>202</td>\n",
       "      <td>57.9</td>\n",
       "      <td>2.2</td>\n",
       "      <td>5088</td>\n",
       "      <td>25.3</td>\n",
       "      <td>1.555</td>\n",
       "      <td>1</td>\n",
       "    </tr>\n",
       "    <tr>\n",
       "      <th>2</th>\n",
       "      <td>Central</td>\n",
       "      <td>1.43</td>\n",
       "      <td>15.4</td>\n",
       "      <td>113</td>\n",
       "      <td>53.0</td>\n",
       "      <td>3.4</td>\n",
       "      <td>9212</td>\n",
       "      <td>0.0</td>\n",
       "      <td>1.058</td>\n",
       "      <td>2</td>\n",
       "    </tr>\n",
       "    <tr>\n",
       "      <th>3</th>\n",
       "      <td>Commonwealth</td>\n",
       "      <td>1.02</td>\n",
       "      <td>11.2</td>\n",
       "      <td>168</td>\n",
       "      <td>56.0</td>\n",
       "      <td>0.3</td>\n",
       "      <td>6423</td>\n",
       "      <td>34.3</td>\n",
       "      <td>0.700</td>\n",
       "      <td>0</td>\n",
       "    </tr>\n",
       "    <tr>\n",
       "      <th>4</th>\n",
       "      <td>NY</td>\n",
       "      <td>1.49</td>\n",
       "      <td>8.8</td>\n",
       "      <td>192</td>\n",
       "      <td>51.2</td>\n",
       "      <td>1.0</td>\n",
       "      <td>3300</td>\n",
       "      <td>15.6</td>\n",
       "      <td>2.044</td>\n",
       "      <td>3</td>\n",
       "    </tr>\n",
       "    <tr>\n",
       "      <th>5</th>\n",
       "      <td>Florida</td>\n",
       "      <td>1.32</td>\n",
       "      <td>13.5</td>\n",
       "      <td>111</td>\n",
       "      <td>60.0</td>\n",
       "      <td>-2.2</td>\n",
       "      <td>11127</td>\n",
       "      <td>22.5</td>\n",
       "      <td>1.241</td>\n",
       "      <td>2</td>\n",
       "    </tr>\n",
       "    <tr>\n",
       "      <th>6</th>\n",
       "      <td>Hawaiian</td>\n",
       "      <td>1.22</td>\n",
       "      <td>12.2</td>\n",
       "      <td>175</td>\n",
       "      <td>67.6</td>\n",
       "      <td>2.2</td>\n",
       "      <td>7642</td>\n",
       "      <td>0.0</td>\n",
       "      <td>1.652</td>\n",
       "      <td>1</td>\n",
       "    </tr>\n",
       "    <tr>\n",
       "      <th>7</th>\n",
       "      <td>Idaho</td>\n",
       "      <td>1.10</td>\n",
       "      <td>9.2</td>\n",
       "      <td>245</td>\n",
       "      <td>57.0</td>\n",
       "      <td>3.3</td>\n",
       "      <td>13082</td>\n",
       "      <td>0.0</td>\n",
       "      <td>0.309</td>\n",
       "      <td>4</td>\n",
       "    </tr>\n",
       "    <tr>\n",
       "      <th>8</th>\n",
       "      <td>Kentucky</td>\n",
       "      <td>1.34</td>\n",
       "      <td>13.0</td>\n",
       "      <td>168</td>\n",
       "      <td>60.4</td>\n",
       "      <td>7.2</td>\n",
       "      <td>8406</td>\n",
       "      <td>0.0</td>\n",
       "      <td>0.862</td>\n",
       "      <td>2</td>\n",
       "    </tr>\n",
       "    <tr>\n",
       "      <th>9</th>\n",
       "      <td>Madison</td>\n",
       "      <td>1.12</td>\n",
       "      <td>12.4</td>\n",
       "      <td>197</td>\n",
       "      <td>53.0</td>\n",
       "      <td>2.7</td>\n",
       "      <td>6455</td>\n",
       "      <td>39.2</td>\n",
       "      <td>0.623</td>\n",
       "      <td>0</td>\n",
       "    </tr>\n",
       "    <tr>\n",
       "      <th>10</th>\n",
       "      <td>Nevada</td>\n",
       "      <td>0.75</td>\n",
       "      <td>7.5</td>\n",
       "      <td>173</td>\n",
       "      <td>51.5</td>\n",
       "      <td>6.5</td>\n",
       "      <td>17441</td>\n",
       "      <td>0.0</td>\n",
       "      <td>0.768</td>\n",
       "      <td>4</td>\n",
       "    </tr>\n",
       "    <tr>\n",
       "      <th>11</th>\n",
       "      <td>New England</td>\n",
       "      <td>1.13</td>\n",
       "      <td>10.9</td>\n",
       "      <td>178</td>\n",
       "      <td>62.0</td>\n",
       "      <td>3.7</td>\n",
       "      <td>6154</td>\n",
       "      <td>0.0</td>\n",
       "      <td>1.897</td>\n",
       "      <td>1</td>\n",
       "    </tr>\n",
       "    <tr>\n",
       "      <th>12</th>\n",
       "      <td>Northern</td>\n",
       "      <td>1.15</td>\n",
       "      <td>12.7</td>\n",
       "      <td>199</td>\n",
       "      <td>53.7</td>\n",
       "      <td>6.4</td>\n",
       "      <td>7179</td>\n",
       "      <td>50.2</td>\n",
       "      <td>0.527</td>\n",
       "      <td>0</td>\n",
       "    </tr>\n",
       "    <tr>\n",
       "      <th>13</th>\n",
       "      <td>Oklahoma</td>\n",
       "      <td>1.09</td>\n",
       "      <td>12.0</td>\n",
       "      <td>96</td>\n",
       "      <td>49.8</td>\n",
       "      <td>1.4</td>\n",
       "      <td>9673</td>\n",
       "      <td>0.0</td>\n",
       "      <td>0.588</td>\n",
       "      <td>2</td>\n",
       "    </tr>\n",
       "    <tr>\n",
       "      <th>14</th>\n",
       "      <td>Pacific</td>\n",
       "      <td>0.96</td>\n",
       "      <td>7.6</td>\n",
       "      <td>164</td>\n",
       "      <td>62.2</td>\n",
       "      <td>-0.1</td>\n",
       "      <td>6468</td>\n",
       "      <td>0.9</td>\n",
       "      <td>1.400</td>\n",
       "      <td>1</td>\n",
       "    </tr>\n",
       "    <tr>\n",
       "      <th>15</th>\n",
       "      <td>Puget</td>\n",
       "      <td>1.16</td>\n",
       "      <td>9.9</td>\n",
       "      <td>252</td>\n",
       "      <td>56.0</td>\n",
       "      <td>9.2</td>\n",
       "      <td>15991</td>\n",
       "      <td>0.0</td>\n",
       "      <td>0.620</td>\n",
       "      <td>4</td>\n",
       "    </tr>\n",
       "    <tr>\n",
       "      <th>16</th>\n",
       "      <td>San Diego</td>\n",
       "      <td>0.76</td>\n",
       "      <td>6.4</td>\n",
       "      <td>136</td>\n",
       "      <td>61.9</td>\n",
       "      <td>9.0</td>\n",
       "      <td>5714</td>\n",
       "      <td>8.3</td>\n",
       "      <td>1.920</td>\n",
       "      <td>1</td>\n",
       "    </tr>\n",
       "    <tr>\n",
       "      <th>17</th>\n",
       "      <td>Southern</td>\n",
       "      <td>1.05</td>\n",
       "      <td>12.6</td>\n",
       "      <td>150</td>\n",
       "      <td>56.7</td>\n",
       "      <td>2.7</td>\n",
       "      <td>10140</td>\n",
       "      <td>0.0</td>\n",
       "      <td>1.108</td>\n",
       "      <td>2</td>\n",
       "    </tr>\n",
       "    <tr>\n",
       "      <th>18</th>\n",
       "      <td>Texas</td>\n",
       "      <td>1.16</td>\n",
       "      <td>11.7</td>\n",
       "      <td>104</td>\n",
       "      <td>54.0</td>\n",
       "      <td>-2.1</td>\n",
       "      <td>13507</td>\n",
       "      <td>0.0</td>\n",
       "      <td>0.636</td>\n",
       "      <td>2</td>\n",
       "    </tr>\n",
       "    <tr>\n",
       "      <th>19</th>\n",
       "      <td>Wisconsin</td>\n",
       "      <td>1.20</td>\n",
       "      <td>11.8</td>\n",
       "      <td>148</td>\n",
       "      <td>59.9</td>\n",
       "      <td>3.5</td>\n",
       "      <td>7287</td>\n",
       "      <td>41.1</td>\n",
       "      <td>0.702</td>\n",
       "      <td>0</td>\n",
       "    </tr>\n",
       "    <tr>\n",
       "      <th>20</th>\n",
       "      <td>United</td>\n",
       "      <td>1.04</td>\n",
       "      <td>8.6</td>\n",
       "      <td>204</td>\n",
       "      <td>61.0</td>\n",
       "      <td>3.5</td>\n",
       "      <td>6650</td>\n",
       "      <td>0.0</td>\n",
       "      <td>2.116</td>\n",
       "      <td>1</td>\n",
       "    </tr>\n",
       "    <tr>\n",
       "      <th>21</th>\n",
       "      <td>Virginia</td>\n",
       "      <td>1.07</td>\n",
       "      <td>9.3</td>\n",
       "      <td>174</td>\n",
       "      <td>54.3</td>\n",
       "      <td>5.9</td>\n",
       "      <td>10093</td>\n",
       "      <td>26.6</td>\n",
       "      <td>1.306</td>\n",
       "      <td>0</td>\n",
       "    </tr>\n",
       "  </tbody>\n",
       "</table>\n",
       "</div>"
      ],
      "text/plain": [
       "         Company  Fixed_charge   RoR  Cost  Load_factor  Demand_growth  Sales  \\\n",
       "0       Arizona           1.06   9.2   151         54.4            1.6   9077   \n",
       "1        Boston           0.89  10.3   202         57.9            2.2   5088   \n",
       "2       Central           1.43  15.4   113         53.0            3.4   9212   \n",
       "3   Commonwealth          1.02  11.2   168         56.0            0.3   6423   \n",
       "4             NY          1.49   8.8   192         51.2            1.0   3300   \n",
       "5       Florida           1.32  13.5   111         60.0           -2.2  11127   \n",
       "6      Hawaiian           1.22  12.2   175         67.6            2.2   7642   \n",
       "7          Idaho          1.10   9.2   245         57.0            3.3  13082   \n",
       "8       Kentucky          1.34  13.0   168         60.4            7.2   8406   \n",
       "9       Madison           1.12  12.4   197         53.0            2.7   6455   \n",
       "10        Nevada          0.75   7.5   173         51.5            6.5  17441   \n",
       "11   New England          1.13  10.9   178         62.0            3.7   6154   \n",
       "12      Northern          1.15  12.7   199         53.7            6.4   7179   \n",
       "13      Oklahoma          1.09  12.0    96         49.8            1.4   9673   \n",
       "14      Pacific           0.96   7.6   164         62.2           -0.1   6468   \n",
       "15         Puget          1.16   9.9   252         56.0            9.2  15991   \n",
       "16     San Diego          0.76   6.4   136         61.9            9.0   5714   \n",
       "17      Southern          1.05  12.6   150         56.7            2.7  10140   \n",
       "18         Texas          1.16  11.7   104         54.0           -2.1  13507   \n",
       "19     Wisconsin          1.20  11.8   148         59.9            3.5   7287   \n",
       "20        United          1.04   8.6   204         61.0            3.5   6650   \n",
       "21      Virginia          1.07   9.3   174         54.3            5.9  10093   \n",
       "\n",
       "    Nuclear  Fuel_Cost  cluster  \n",
       "0       0.0      0.628        2  \n",
       "1      25.3      1.555        1  \n",
       "2       0.0      1.058        2  \n",
       "3      34.3      0.700        0  \n",
       "4      15.6      2.044        3  \n",
       "5      22.5      1.241        2  \n",
       "6       0.0      1.652        1  \n",
       "7       0.0      0.309        4  \n",
       "8       0.0      0.862        2  \n",
       "9      39.2      0.623        0  \n",
       "10      0.0      0.768        4  \n",
       "11      0.0      1.897        1  \n",
       "12     50.2      0.527        0  \n",
       "13      0.0      0.588        2  \n",
       "14      0.9      1.400        1  \n",
       "15      0.0      0.620        4  \n",
       "16      8.3      1.920        1  \n",
       "17      0.0      1.108        2  \n",
       "18      0.0      0.636        2  \n",
       "19     41.1      0.702        0  \n",
       "20      0.0      2.116        1  \n",
       "21     26.6      1.306        0  "
      ]
     },
     "execution_count": 29,
     "metadata": {},
     "output_type": "execute_result"
    }
   ],
   "source": [
    "# add clusters into in df1\n",
    "df1['cluster'] = k_pred.labels_\n",
    "df1"
   ]
  },
  {
   "cell_type": "code",
   "execution_count": 11,
   "metadata": {},
   "outputs": [
    {
     "data": {
      "text/html": [
       "<div>\n",
       "<style scoped>\n",
       "    .dataframe tbody tr th:only-of-type {\n",
       "        vertical-align: middle;\n",
       "    }\n",
       "\n",
       "    .dataframe tbody tr th {\n",
       "        vertical-align: top;\n",
       "    }\n",
       "\n",
       "    .dataframe thead th {\n",
       "        text-align: right;\n",
       "    }\n",
       "</style>\n",
       "<table border=\"1\" class=\"dataframe\">\n",
       "  <thead>\n",
       "    <tr style=\"text-align: right;\">\n",
       "      <th></th>\n",
       "      <th>Fixed_charge</th>\n",
       "      <th>RoR</th>\n",
       "      <th>Cost</th>\n",
       "      <th>Load_factor</th>\n",
       "      <th>Demand_growth</th>\n",
       "      <th>Sales</th>\n",
       "      <th>Nuclear</th>\n",
       "      <th>Fuel_Cost</th>\n",
       "    </tr>\n",
       "  </thead>\n",
       "  <tbody>\n",
       "    <tr>\n",
       "      <th>0</th>\n",
       "      <td>-0.012</td>\n",
       "      <td>0.339</td>\n",
       "      <td>0.224</td>\n",
       "      <td>-0.366</td>\n",
       "      <td>0.170</td>\n",
       "      <td>-0.411</td>\n",
       "      <td>1.602</td>\n",
       "      <td>-0.609</td>\n",
       "    </tr>\n",
       "    <tr>\n",
       "      <th>1</th>\n",
       "      <td>-0.633</td>\n",
       "      <td>-0.640</td>\n",
       "      <td>0.207</td>\n",
       "      <td>1.175</td>\n",
       "      <td>0.058</td>\n",
       "      <td>-0.758</td>\n",
       "      <td>-0.381</td>\n",
       "      <td>1.204</td>\n",
       "    </tr>\n",
       "    <tr>\n",
       "      <th>2</th>\n",
       "      <td>0.516</td>\n",
       "      <td>0.798</td>\n",
       "      <td>-1.009</td>\n",
       "      <td>-0.345</td>\n",
       "      <td>-0.501</td>\n",
       "      <td>0.360</td>\n",
       "      <td>-0.536</td>\n",
       "      <td>-0.420</td>\n",
       "    </tr>\n",
       "    <tr>\n",
       "      <th>3</th>\n",
       "      <td>2.085</td>\n",
       "      <td>-0.883</td>\n",
       "      <td>0.592</td>\n",
       "      <td>-1.325</td>\n",
       "      <td>-0.736</td>\n",
       "      <td>-1.619</td>\n",
       "      <td>0.219</td>\n",
       "      <td>1.732</td>\n",
       "    </tr>\n",
       "    <tr>\n",
       "      <th>4</th>\n",
       "      <td>-0.614</td>\n",
       "      <td>-0.853</td>\n",
       "      <td>1.370</td>\n",
       "      <td>-0.492</td>\n",
       "      <td>1.015</td>\n",
       "      <td>1.900</td>\n",
       "      <td>-0.731</td>\n",
       "      <td>-0.988</td>\n",
       "    </tr>\n",
       "  </tbody>\n",
       "</table>\n",
       "</div>"
      ],
      "text/plain": [
       "   Fixed_charge    RoR   Cost  Load_factor  Demand_growth  Sales  Nuclear  \\\n",
       "0        -0.012  0.339  0.224       -0.366          0.170 -0.411    1.602   \n",
       "1        -0.633 -0.640  0.207        1.175          0.058 -0.758   -0.381   \n",
       "2         0.516  0.798 -1.009       -0.345         -0.501  0.360   -0.536   \n",
       "3         2.085 -0.883  0.592       -1.325         -0.736 -1.619    0.219   \n",
       "4        -0.614 -0.853  1.370       -0.492          1.015  1.900   -0.731   \n",
       "\n",
       "   Fuel_Cost  \n",
       "0     -0.609  \n",
       "1      1.204  \n",
       "2     -0.420  \n",
       "3      1.732  \n",
       "4     -0.988  "
      ]
     },
     "execution_count": 11,
     "metadata": {},
     "output_type": "execute_result"
    }
   ],
   "source": [
    "# cluster centroids\n",
    "df_cluster = pd.DataFrame(k_pred.cluster_centers_, columns = df.columns)\n",
    "pd.set_option('display.precision', 3)\n",
    "df_cluster"
   ]
  },
  {
   "cell_type": "code",
   "execution_count": 12,
   "metadata": {},
   "outputs": [
    {
     "data": {
      "text/plain": [
       "<AxesSubplot:ylabel='Fixed_charge'>"
      ]
     },
     "execution_count": 12,
     "metadata": {},
     "output_type": "execute_result"
    },
    {
     "data": {
      "image/png": "[encoded data removed]",
      "text/plain": [
       "<Figure size 432x288 with 1 Axes>"
      ]
     },
     "metadata": {
      "needs_background": "light"
     },
     "output_type": "display_data"
    }
   ],
   "source": [
    "# Fixed_charge\n",
    "sns.barplot(data = df_cluster, x = df_cluster.index, y = 'Fixed_charge')"
   ]
  },
  {
   "cell_type": "code",
   "execution_count": 13,
   "metadata": {},
   "outputs": [
    {
     "data": {
      "text/plain": [
       "<AxesSubplot:ylabel='RoR'>"
      ]
     },
     "execution_count": 13,
     "metadata": {},
     "output_type": "execute_result"
    },
    {
     "data": {
      "image/png": "[encoded data removed]",
      "text/plain": [
       "<Figure size 432x288 with 1 Axes>"
      ]
     },
     "metadata": {
      "needs_background": "light"
     },
     "output_type": "display_data"
    }
   ],
   "source": [
    "# RoR\n",
    "sns.barplot(data = df_cluster, x = df_cluster.index, y = 'RoR')"
   ]
  },
  {
   "cell_type": "code",
   "execution_count": 14,
   "metadata": {},
   "outputs": [
    {
     "data": {
      "text/plain": [
       "<AxesSubplot:ylabel='Cost'>"
      ]
     },
     "execution_count": 14,
     "metadata": {},
     "output_type": "execute_result"
    },
    {
     "data": {
      "image/png": "[encoded data removed]",
      "text/plain": [
       "<Figure size 432x288 with 1 Axes>"
      ]
     },
     "metadata": {
      "needs_background": "light"
     },
     "output_type": "display_data"
    }
   ],
   "source": [
    "# HW Cost\n",
    "sns.barplot(data = df_cluster, x = df_cluster.index, y = 'Cost')"
   ]
  },
  {
   "cell_type": "code",
   "execution_count": 15,
   "metadata": {},
   "outputs": [
    {
     "data": {
      "text/plain": [
       "<AxesSubplot:ylabel='Load_factor'>"
      ]
     },
     "execution_count": 15,
     "metadata": {},
     "output_type": "execute_result"
    },
    {
     "data": {
      "image/png": "[encoded data removed]",
      "text/plain": [
       "<Figure size 432x288 with 1 Axes>"
      ]
     },
     "metadata": {
      "needs_background": "light"
     },
     "output_type": "display_data"
    }
   ],
   "source": [
    "# HW Load_factor\n",
    "sns.barplot(data = df_cluster, x = df_cluster.index, y = 'Load_factor')"
   ]
  },
  {
   "cell_type": "code",
   "execution_count": 16,
   "metadata": {},
   "outputs": [
    {
     "data": {
      "text/plain": [
       "<AxesSubplot:ylabel='Demand_growth'>"
      ]
     },
     "execution_count": 16,
     "metadata": {},
     "output_type": "execute_result"
    },
    {
     "data": {
      "image/png": "[encoded data removed]",
      "text/plain": [
       "<Figure size 432x288 with 1 Axes>"
      ]
     },
     "metadata": {
      "needs_background": "light"
     },
     "output_type": "display_data"
    }
   ],
   "source": [
    "# HW Demand_growth\n",
    "sns.barplot(data = df_cluster, x = df_cluster.index, y = 'Demand_growth')"
   ]
  },
  {
   "cell_type": "code",
   "execution_count": 17,
   "metadata": {},
   "outputs": [
    {
     "data": {
      "text/plain": [
       "<AxesSubplot:ylabel='Sales'>"
      ]
     },
     "execution_count": 17,
     "metadata": {},
     "output_type": "execute_result"
    },
    {
     "data": {
      "image/png": "[encoded data removed]",
      "text/plain": [
       "<Figure size 432x288 with 1 Axes>"
      ]
     },
     "metadata": {
      "needs_background": "light"
     },
     "output_type": "display_data"
    }
   ],
   "source": [
    "# HW Sales\n",
    "sns.barplot(data = df_cluster, x = df_cluster.index, y = 'Sales')"
   ]
  },
  {
   "cell_type": "code",
   "execution_count": 18,
   "metadata": {},
   "outputs": [
    {
     "data": {
      "text/plain": [
       "<AxesSubplot:ylabel='Nuclear'>"
      ]
     },
     "execution_count": 18,
     "metadata": {},
     "output_type": "execute_result"
    },
    {
     "data": {
      "image/png": "[encoded data removed]",
      "text/plain": [
       "<Figure size 432x288 with 1 Axes>"
      ]
     },
     "metadata": {
      "needs_background": "light"
     },
     "output_type": "display_data"
    }
   ],
   "source": [
    "# HW Nuclear\n",
    "sns.barplot(data = df_cluster, x = df_cluster.index, y = 'Nuclear')"
   ]
  },
  {
   "cell_type": "code",
   "execution_count": 19,
   "metadata": {},
   "outputs": [
    {
     "data": {
      "text/plain": [
       "<AxesSubplot:ylabel='Fuel_Cost'>"
      ]
     },
     "execution_count": 19,
     "metadata": {},
     "output_type": "execute_result"
    },
    {
     "data": {
      "image/png": "[encoded data removed]",
      "text/plain": [
       "<Figure size 432x288 with 1 Axes>"
      ]
     },
     "metadata": {
      "needs_background": "light"
     },
     "output_type": "display_data"
    }
   ],
   "source": [
    "# HW Fuel_Cost\n",
    "sns.barplot(data = df_cluster, x = df_cluster.index, y = 'Fuel_Cost')"
   ]
  },
  {
   "cell_type": "markdown",
   "metadata": {},
   "source": [
    "### Choosing K: Elbow Method"
   ]
  },
  {
   "cell_type": "code",
   "execution_count": 20,
   "metadata": {},
   "outputs": [],
   "source": [
    "# Computing inertia\n",
    "distortions = []\n",
    "K = range(2, 10)\n",
    "for i in K:\n",
    "    km = KMeans(n_clusters = i)\n",
    "    km.fit(df_scaled)\n",
    "    distortions.append(km.inertia_)"
   ]
  },
  {
   "cell_type": "code",
   "execution_count": 21,
   "metadata": {},
   "outputs": [
    {
     "name": "stdout",
     "output_type": "stream",
     "text": [
      "[137.44982253132122, 106.55401965419406, 84.21096768855101, 70.61618681662719, 63.318452380888935, 53.40116562521618, 47.45529018151178, 37.9771388408972]\n"
     ]
    }
   ],
   "source": [
    "print(distortions)"
   ]
  },
  {
   "cell_type": "code",
   "execution_count": 22,
   "metadata": {},
   "outputs": [
    {
     "data": {
      "text/plain": [
       "[<matplotlib.lines.Line2D at 0x7fd6404de400>]"
      ]
     },
     "execution_count": 22,
     "metadata": {},
     "output_type": "execute_result"
    },
    {
     "data": {
      "image/png": "[encoded data removed]",
      "text/plain": [
       "<Figure size 432x288 with 1 Axes>"
      ]
     },
     "metadata": {
      "needs_background": "light"
     },
     "output_type": "display_data"
    }
   ],
   "source": [
    "# plot inertia\n",
    "plt.plot(K, distortions)"
   ]
  },
  {
   "cell_type": "code",
   "execution_count": null,
   "metadata": {},
   "outputs": [],
   "source": []
  }
 ],
 "metadata": {
  "interpreter": {
   "hash": "40d3a090f54c6569ab1632332b64b2c03c39dcf918b08424e98f38b5ae0af88f"
  },
  "kernelspec": {
   "display_name": "Python 3.9.12 ('base')",
   "language": "python",
   "name": "python3"
  },
  "language_info": {
   "codemirror_mode": {
    "name": "ipython",
    "version": 3
   },
   "file_extension": ".py",
   "mimetype": "text/x-python",
   "name": "python",
   "nbconvert_exporter": "python",
   "pygments_lexer": "ipython3",
   "version": "3.9.12"
  },
  "orig_nbformat": 4
 },
 "nbformat": 4,
 "nbformat_minor": 2
}
