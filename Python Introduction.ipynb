{
 "cells": [
  {
   "cell_type": "markdown",
   "metadata": {},
   "source": [
    "### Name: David Geng\n",
    "#### Date : 05/22/2022\n",
    "#### Due date: 05/24/2022\n",
    "#### Instructor: Dr.Jha"
   ]
  },
  {
   "cell_type": "markdown",
   "metadata": {},
   "source": [
    "## Python Introduction\n",
    "This is an introduction to Python."
   ]
  },
  {
   "cell_type": "markdown",
   "metadata": {},
   "source": [
    "### Print Function"
   ]
  },
  {
   "cell_type": "code",
   "execution_count": 1,
   "metadata": {},
   "outputs": [
    {
     "name": "stdout",
     "output_type": "stream",
     "text": [
      "Hello World\n"
     ]
    }
   ],
   "source": [
    "print('Hello World')"
   ]
  },
  {
   "cell_type": "code",
   "execution_count": 2,
   "metadata": {},
   "outputs": [
    {
     "name": "stdout",
     "output_type": "stream",
     "text": [
      "Randy Kelly\n"
     ]
    }
   ],
   "source": [
    "first_name = 'Randy'\n",
    "last_name = 'Kelly'\n",
    "full_name = first_name + ' ' + last_name\n",
    "print(full_name)"
   ]
  },
  {
   "cell_type": "markdown",
   "metadata": {},
   "source": [
    "### Variable names guidelines\n",
    "\n",
    "1.  Only letter, numbers, and underscores\n",
    "2.  Cannot start with numbers\n",
    "3.  No keywords\n",
    "4.  Too long, but should be descriptive"
   ]
  },
  {
   "cell_type": "code",
   "execution_count": 3,
   "metadata": {},
   "outputs": [
    {
     "name": "stdout",
     "output_type": "stream",
     "text": [
      "Honesty is the best policy\n"
     ]
    }
   ],
   "source": [
    "# print your favorite quote\n",
    "quote = 'Honesty is the best policy'\n",
    "print(quote)"
   ]
  },
  {
   "cell_type": "code",
   "execution_count": 4,
   "metadata": {},
   "outputs": [
    {
     "name": "stdout",
     "output_type": "stream",
     "text": [
      "\"Any fool can write code that a computer can understand. Good programmers write code that humans can understand\" - Martin Fowler\n"
     ]
    }
   ],
   "source": [
    "# HW: find and print your favorite quote\n",
    "my_favorite_quote = '\\\"Any fool can write code that a computer can understand. Good programmers write code that humans can understand\\\" - Martin Fowler'\n",
    "print(my_favorite_quote)"
   ]
  },
  {
   "cell_type": "markdown",
   "metadata": {},
   "source": [
    "## Arithmetic Operation\n",
    "\n",
    "1.  Addition\n",
    "2.  Subtraction\n",
    "3.  Multiplication\n",
    "4.  Division\n",
    "5.  Integer Division (Quotient)\n",
    "6.  Modulo (Remainder)"
   ]
  },
  {
   "cell_type": "code",
   "execution_count": 5,
   "metadata": {},
   "outputs": [
    {
     "name": "stdout",
     "output_type": "stream",
     "text": [
      "5\n"
     ]
    }
   ],
   "source": [
    "# Addition\n",
    "print(2+3)"
   ]
  },
  {
   "cell_type": "code",
   "execution_count": 6,
   "metadata": {},
   "outputs": [
    {
     "name": "stdout",
     "output_type": "stream",
     "text": [
      "6\n"
     ]
    }
   ],
   "source": [
    "# Subtraction\n",
    "print(10-4)"
   ]
  },
  {
   "cell_type": "code",
   "execution_count": 7,
   "metadata": {},
   "outputs": [
    {
     "name": "stdout",
     "output_type": "stream",
     "text": [
      "6\n"
     ]
    }
   ],
   "source": [
    "# Multiplication\n",
    "print(3*2)"
   ]
  },
  {
   "cell_type": "code",
   "execution_count": 8,
   "metadata": {},
   "outputs": [
    {
     "data": {
      "text/plain": [
       "8"
      ]
     },
     "execution_count": 8,
     "metadata": {},
     "output_type": "execute_result"
    }
   ],
   "source": [
    "# Exponentiation\n",
    "2 ** 3"
   ]
  },
  {
   "cell_type": "code",
   "execution_count": 9,
   "metadata": {},
   "outputs": [
    {
     "data": {
      "text/plain": [
       "2.5"
      ]
     },
     "execution_count": 9,
     "metadata": {},
     "output_type": "execute_result"
    }
   ],
   "source": [
    "# Division\n",
    "5/2"
   ]
  },
  {
   "cell_type": "code",
   "execution_count": 10,
   "metadata": {},
   "outputs": [
    {
     "name": "stdout",
     "output_type": "stream",
     "text": [
      "6\n",
      "3\n"
     ]
    }
   ],
   "source": [
    "# Integer Division: quotient\n",
    "print(2 * 3)\n",
    "print(7 // 2)"
   ]
  },
  {
   "cell_type": "code",
   "execution_count": 11,
   "metadata": {},
   "outputs": [
    {
     "data": {
      "text/plain": [
       "1"
      ]
     },
     "execution_count": 11,
     "metadata": {},
     "output_type": "execute_result"
    }
   ],
   "source": [
    "# Modulo or remainder\n",
    "3 % 2"
   ]
  },
  {
   "cell_type": "code",
   "execution_count": 12,
   "metadata": {},
   "outputs": [
    {
     "name": "stdout",
     "output_type": "stream",
     "text": [
      "Addition:  11\n",
      "Subtraction:  4\n",
      "Multiplication:  18\n",
      "Exponentiation:  65536\n",
      "Division:  2.490566037735849\n",
      "Integer Division: quotient:  13\n",
      "Modulo or remainder:  1\n"
     ]
    }
   ],
   "source": [
    "# HW: try all 7 operations\n",
    "print('Addition: ',4+7)\n",
    "print('Subtraction: ',7-3)\n",
    "print('Multiplication: ',9*2)\n",
    "print('Exponentiation: ',4 ** 8)\n",
    "print('Division: ',132/53)\n",
    "print('Integer Division: quotient: ',53 // 4)\n",
    "print('Modulo or remainder: ',4 % 3)"
   ]
  },
  {
   "cell_type": "markdown",
   "metadata": {},
   "source": [
    "## Lists: Collection of ordered items"
   ]
  },
  {
   "cell_type": "code",
   "execution_count": 13,
   "metadata": {},
   "outputs": [
    {
     "name": "stdout",
     "output_type": "stream",
     "text": [
      "['apple', 'pear', 'grapes']\n"
     ]
    }
   ],
   "source": [
    "# List example\n",
    "fruits = ['apple', 'pear', 'grapes']\n",
    "print(fruits)"
   ]
  },
  {
   "cell_type": "code",
   "execution_count": 14,
   "metadata": {},
   "outputs": [
    {
     "name": "stdout",
     "output_type": "stream",
     "text": [
      "[160, 134, 180, 154, 130, 167]\n"
     ]
    }
   ],
   "source": [
    "# Second example\n",
    "heights = [160, 134, 180, 154, 130, 167]\n",
    "print(heights)"
   ]
  },
  {
   "cell_type": "code",
   "execution_count": 15,
   "metadata": {},
   "outputs": [
    {
     "data": {
      "text/plain": [
       "134"
      ]
     },
     "execution_count": 15,
     "metadata": {},
     "output_type": "execute_result"
    }
   ],
   "source": [
    "# Retrieving from list\n",
    "# Index starts from 0 and not 1\n",
    "heights[1] "
   ]
  },
  {
   "cell_type": "code",
   "execution_count": 16,
   "metadata": {},
   "outputs": [
    {
     "data": {
      "text/plain": [
       "[160, 134, 180]"
      ]
     },
     "execution_count": 16,
     "metadata": {},
     "output_type": "execute_result"
    }
   ],
   "source": [
    "# Slicing from list\n",
    "heights[0:3]"
   ]
  },
  {
   "cell_type": "code",
   "execution_count": 17,
   "metadata": {},
   "outputs": [
    {
     "name": "stdout",
     "output_type": "stream",
     "text": [
      "['apple', 'pear', 'grapes', 'pineapple']\n"
     ]
    }
   ],
   "source": [
    "# adding elements to a list\n",
    "fruits.append('pineapple')\n",
    "print(fruits)"
   ]
  },
  {
   "cell_type": "code",
   "execution_count": 18,
   "metadata": {},
   "outputs": [
    {
     "name": "stdout",
     "output_type": "stream",
     "text": [
      "pineapple\n",
      "['apple', 'pear', 'grapes']\n"
     ]
    }
   ],
   "source": [
    "# pop method\n",
    "output = fruits.pop()\n",
    "print(output)\n",
    "print(fruits)"
   ]
  },
  {
   "cell_type": "code",
   "execution_count": 19,
   "metadata": {},
   "outputs": [
    {
     "name": "stdout",
     "output_type": "stream",
     "text": [
      "['Adam', 'John', 'Sarah', 'Victor', 'Tom']\n",
      "[23, 34, 33, 45, 56]\n"
     ]
    }
   ],
   "source": [
    "# HW: create a list of five friends\n",
    "# list of age\n",
    "friends = ['Adam','John','Sarah','Victor','Tom']\n",
    "age =[23,34,33,45,56]\n",
    "print(friends)\n",
    "print(age)"
   ]
  },
  {
   "cell_type": "markdown",
   "metadata": {},
   "source": [
    "## String: series of ordered characters"
   ]
  },
  {
   "cell_type": "code",
   "execution_count": 20,
   "metadata": {},
   "outputs": [
    {
     "name": "stdout",
     "output_type": "stream",
     "text": [
      "My city is Valparaiso\n",
      "I live in Indiana\n"
     ]
    }
   ],
   "source": [
    "# creating strings\n",
    "city = 'My city is Valparaiso'\n",
    "state = 'I live in Indiana'\n",
    "print(city)\n",
    "print(state)"
   ]
  },
  {
   "cell_type": "code",
   "execution_count": 21,
   "metadata": {},
   "outputs": [
    {
     "data": {
      "text/plain": [
       "'M'"
      ]
     },
     "execution_count": 21,
     "metadata": {},
     "output_type": "execute_result"
    }
   ],
   "source": [
    "# slicing of strings\n",
    "city[0]"
   ]
  },
  {
   "cell_type": "code",
   "execution_count": 22,
   "metadata": {},
   "outputs": [
    {
     "data": {
      "text/plain": [
       "'ty is'"
      ]
     },
     "execution_count": 22,
     "metadata": {},
     "output_type": "execute_result"
    }
   ],
   "source": [
    "# slicing example\n",
    "city[5:10]"
   ]
  },
  {
   "cell_type": "code",
   "execution_count": 23,
   "metadata": {},
   "outputs": [
    {
     "data": {
      "text/plain": [
       "'My city is Valparaiso I live in Indiana'"
      ]
     },
     "execution_count": 23,
     "metadata": {},
     "output_type": "execute_result"
    }
   ],
   "source": [
    "# Adding strings\n",
    "city + ' ' + state"
   ]
  },
  {
   "cell_type": "code",
   "execution_count": 24,
   "metadata": {},
   "outputs": [
    {
     "name": "stdout",
     "output_type": "stream",
     "text": [
      "tennistennistennistennistennis\n"
     ]
    }
   ],
   "source": [
    "# Multiply strings but no subtraction of division\n",
    "games = 'tennis'\n",
    "print(5 * games)"
   ]
  },
  {
   "cell_type": "code",
   "execution_count": 25,
   "metadata": {},
   "outputs": [
    {
     "name": "stdout",
     "output_type": "stream",
     "text": [
      "David Geng \n",
      "David Geng David Geng David Geng \n"
     ]
    }
   ],
   "source": [
    "# HW: create a string and perform multiplication and addition operation\n",
    "my_first_name = 'David'\n",
    "my_last_name = 'Geng'\n",
    "my_full_name = my_first_name + ' ' +my_last_name +' '\n",
    "print(my_full_name)\n",
    "print(my_full_name*3)"
   ]
  }
 ],
 "metadata": {
  "interpreter": {
   "hash": "fd1f96906bc4b89471798cb863bbfc07e764ca065d9e2c77334f84fdd69b886f"
  },
  "kernelspec": {
   "display_name": "Python 3.9.12 ('base')",
   "language": "python",
   "name": "python3"
  },
  "language_info": {
   "codemirror_mode": {
    "name": "ipython",
    "version": 3
   },
   "file_extension": ".py",
   "mimetype": "text/x-python",
   "name": "python",
   "nbconvert_exporter": "python",
   "pygments_lexer": "ipython3",
   "version": "3.9.12"
  },
  "orig_nbformat": 4
 },
 "nbformat": 4,
 "nbformat_minor": 2
}
